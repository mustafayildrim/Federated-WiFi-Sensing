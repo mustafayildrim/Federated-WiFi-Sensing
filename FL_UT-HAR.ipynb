{
 "cells": [
  {
   "cell_type": "markdown",
   "metadata": {},
   "source": [
    "# Federated vs. Centralized Learning for WiFi Sensing using CNN and ResNet-18\n",
    "## By: Mustafa Yildirim"
   ]
  },
  {
   "cell_type": "markdown",
   "metadata": {},
   "source": [
    "This project explores the application of Federated Learning (FL) in WiFi Sensing to enhance data privacy while maintaining model performance. Instead of centralizing data, FL allows clients to collaboratively train models while keeping data localized. In this work, we compare ResNet-18 and a traditional CNN model on the UT-HAR dataset, evaluating their performance in both centralized and federated learning settings to assess the impact of distributed training on model accuracy and efficiency."
   ]
  },
  {
   "cell_type": "markdown",
   "metadata": {},
   "source": [
    "**Importing Libraries**"
   ]
  },
  {
   "cell_type": "code",
   "execution_count": null,
   "metadata": {},
   "outputs": [],
   "source": [
    "import numpy as np\n",
    "import glob\n",
    "import matplotlib.pyplot as plt\n",
    "import torch\n",
    "import torch.nn as nn\n",
    "import torch.optim as optim\n",
    "from torch.utils.data import DataLoader, TensorDataset\n",
    "from torchvision.models import resnet18"
   ]
  },
  {
   "cell_type": "code",
   "execution_count": 2,
   "metadata": {},
   "outputs": [
    {
     "name": "stdout",
     "output_type": "stream",
     "text": [
      "Using device: cuda\n"
     ]
    }
   ],
   "source": [
    "device = torch.device('cuda' if torch.cuda.is_available() else 'cpu')\n",
    "print('Using device:', device)"
   ]
  },
  {
   "cell_type": "markdown",
   "metadata": {},
   "source": [
    "**Data Processing**"
   ]
  },
  {
   "cell_type": "code",
   "execution_count": 3,
   "metadata": {},
   "outputs": [],
   "source": [
    "def UT_HAR_dataset(root_dir):\n",
    "    data_list = glob.glob(root_dir + '/data/*.csv')\n",
    "    label_list = glob.glob(root_dir + '/label/*.csv')\n",
    "    WiFi_data = {}\n",
    "\n",
    "    expected_keys = ['X_train', 'X_val', 'X_test', 'y_train', 'y_val', 'y_test']\n",
    "\n",
    "    # Load data\n",
    "    for data_dir in data_list:\n",
    "        data_name = data_dir.split('\\\\')[-1].split('.')[0]\n",
    "        \n",
    "        if data_name not in expected_keys:\n",
    "            continue\n",
    "        \n",
    "        with open(data_dir, 'rb') as f:\n",
    "            data = np.load(f, allow_pickle=True)\n",
    "            data = data.reshape(len(data), 1, 250, 90)\n",
    "            data_norm = (data - np.min(data)) / (np.max(data) - np.min(data))\n",
    "            \n",
    "        WiFi_data[data_name] = torch.Tensor(data_norm)\n",
    "\n",
    "    # Load labels\n",
    "    for label_dir in label_list:\n",
    "        label_name = label_dir.split('\\\\')[-1].split('.')[0]\n",
    "        \n",
    "        if label_name not in expected_keys:\n",
    "            continue\n",
    "        \n",
    "        with open(label_dir, 'rb') as f:\n",
    "            label = np.load(f, allow_pickle=True)\n",
    "        WiFi_data[label_name] = torch.Tensor(label).to(torch.int64)\n",
    "\n",
    "    return WiFi_data"
   ]
  },
  {
   "cell_type": "code",
   "execution_count": 4,
   "metadata": {},
   "outputs": [],
   "source": [
    "def preprocess_UT_HAR_data(root_dir):\n",
    "    \n",
    "    data = UT_HAR_dataset(root_dir)\n",
    "    \n",
    "    X_train = data['X_train']\n",
    "    y_train = data['y_train']\n",
    "    \n",
    "    X_test = data['X_test']\n",
    "    y_test = data['y_test']\n",
    "        \n",
    "    return X_train, y_train, X_test, y_test"
   ]
  },
  {
   "cell_type": "code",
   "execution_count": 5,
   "metadata": {},
   "outputs": [],
   "source": [
    "root_dir = 'UT_HAR'\n",
    "\n",
    "X_train, y_train, X_test, y_test = preprocess_UT_HAR_data(root_dir)"
   ]
  },
  {
   "cell_type": "code",
   "execution_count": 6,
   "metadata": {},
   "outputs": [
    {
     "name": "stdout",
     "output_type": "stream",
     "text": [
      "X_train shape: torch.Size([3977, 1, 250, 90])\n",
      "y_train shape: torch.Size([3977])\n",
      "X_test shape: torch.Size([500, 1, 250, 90])\n",
      "y_test shape: torch.Size([500])\n",
      "tensor(3452) tensor(434)\n"
     ]
    }
   ],
   "source": [
    "print(f\"X_train shape: {X_train.shape}\")\n",
    "print(f\"y_train shape: {y_train.shape}\") \n",
    "print(f\"X_test shape: {X_test.shape}\")\n",
    "print(f\"y_test shape: {y_test.shape}\")\n",
    "print(y_train.count_nonzero(), y_test.count_nonzero())"
   ]
  },
  {
   "cell_type": "code",
   "execution_count": 7,
   "metadata": {},
   "outputs": [
    {
     "name": "stdout",
     "output_type": "stream",
     "text": [
      "Unique labels in y_train: [0, 1, 2, 3, 4, 5, 6]\n",
      "Number of classes: 7\n",
      "Unique labels in y_test: [0, 1, 2, 3, 4, 5, 6]\n",
      "Number of classes: 7\n"
     ]
    }
   ],
   "source": [
    "print(f\"Unique labels in y_train: {y_train.unique().tolist()}\")\n",
    "print(f\"Number of classes: {y_train.unique().numel()}\")\n",
    "print(f\"Unique labels in y_test: {y_test.unique().tolist()}\")\n",
    "print(f\"Number of classes: {y_test.unique().numel()}\")"
   ]
  },
  {
   "cell_type": "code",
   "execution_count": 8,
   "metadata": {},
   "outputs": [],
   "source": [
    "train_dataset = TensorDataset(X_train, y_train)\n",
    "test_dataset = TensorDataset(X_test, y_test)\n",
    "\n",
    "train_loader = DataLoader(train_dataset, batch_size=32, shuffle=True)\n",
    "test_loader = DataLoader(test_dataset, batch_size=32, shuffle=False)"
   ]
  },
  {
   "cell_type": "markdown",
   "metadata": {},
   "source": [
    "**Model Initialization**"
   ]
  },
  {
   "cell_type": "markdown",
   "metadata": {},
   "source": [
    "CNN"
   ]
  },
  {
   "cell_type": "code",
   "execution_count": 9,
   "metadata": {},
   "outputs": [],
   "source": [
    "class CNNModel(nn.Module):\n",
    "    def __init__(self, num_classes):\n",
    "        super(CNNModel, self).__init__()\n",
    "        \n",
    "        self.conv1 = nn.Conv2d(in_channels=1, out_channels=32, kernel_size=3, stride=1, padding=1)\n",
    "        self.conv2 = nn.Conv2d(in_channels=32, out_channels=32, kernel_size=3, stride=1, padding=1)\n",
    "        self.conv3 = nn.Conv2d(in_channels=32, out_channels=64, kernel_size=3, stride=1, padding=1)\n",
    "        self.pool = nn.MaxPool2d(kernel_size=2, stride=2, padding=0)\n",
    "        self.fc1 = nn.Linear(64 * 31 * 11, 128)\n",
    "        self.fc2 = nn.Linear(128, num_classes)\n",
    "        self.relu = nn.ReLU()\n",
    "        \n",
    "    def forward(self, x):\n",
    "        x = self.relu(self.conv1(x))\n",
    "        x = self.pool(x)\n",
    "        x = self.relu(self.conv2(x))\n",
    "        x = self.pool(x)\n",
    "        x = self.relu(self.conv3(x))\n",
    "        x = self.pool(x)\n",
    "        x = x.view(x.size(0), -1)\n",
    "        x = self.relu(self.fc1(x))\n",
    "        x = self.fc2(x)\n",
    "        return x"
   ]
  },
  {
   "cell_type": "markdown",
   "metadata": {},
   "source": [
    "ResNet-18"
   ]
  },
  {
   "cell_type": "code",
   "execution_count": 10,
   "metadata": {},
   "outputs": [],
   "source": [
    "class ResNet18(nn.Module):\n",
    "    def __init__(self, num_classes):\n",
    "        super(ResNet18, self).__init__()\n",
    "\n",
    "        self.model = resnet18(weights=None)\n",
    "        self.model.conv1 = nn.Conv2d(in_channels=1, out_channels= 64, kernel_size=7, stride= 2, padding= 3, bias=False)\n",
    "        self.model.fc = nn.Linear(self.model.fc.in_features, num_classes)\n",
    "        \n",
    "    def forward(self, x):\n",
    "        return self.model(x)"
   ]
  },
  {
   "cell_type": "markdown",
   "metadata": {},
   "source": [
    "**Federated learning training function**"
   ]
  },
  {
   "cell_type": "code",
   "execution_count": 11,
   "metadata": {},
   "outputs": [],
   "source": [
    "def federated_train(client_dataloaders, global_model, num_rounds=5, local_epochs=1, model_type=\"cnn\"):\n",
    "    \n",
    "    global_model.to(device)\n",
    "    round_accuracies = []\n",
    "    \n",
    "    for round in range(num_rounds):\n",
    "        print(f'Round {round + 1}/{num_rounds}')\n",
    "        \n",
    "        client_models = []\n",
    "        total_train_correct = 0\n",
    "        total_train_samples = 0 \n",
    "\n",
    "        for client_loader in client_dataloaders:\n",
    "            \n",
    "            if model_type.lower() == \"cnn\":\n",
    "                client_model = CNNModel(num_classes=len(torch.unique(y_train)))\n",
    "            elif model_type.lower() == \"resnet\":    \n",
    "                client_model = ResNet18(num_classes=len(torch.unique(y_train)))\n",
    "            else:\n",
    "                raise ValueError(\"Invalid model_type. Choose 'cnn' or 'resnet'.\")\n",
    "            \n",
    "            client_model.load_state_dict(global_model.state_dict())\n",
    "           \n",
    "            client_model.to(device) \n",
    "            client_optimizer = optim.Adam(client_model.parameters(), lr=0.001)\n",
    "            client_loss_fn = nn.CrossEntropyLoss()\n",
    "            \n",
    "            client_model.train()\n",
    "\n",
    "            # Train on client data for multiple local epochs\n",
    "            for epoch in range(local_epochs):\n",
    "                for inputs, labels in client_loader:\n",
    "                    inputs, labels = inputs.to(device), labels.to(device)\n",
    "                    client_optimizer.zero_grad()\n",
    "                    outputs = client_model(inputs)\n",
    "                    loss = client_loss_fn(outputs, labels)\n",
    "                    loss.backward()\n",
    "                    client_optimizer.step()\n",
    "\n",
    "                    # Calculate training accuracy\n",
    "                    _, predicted = torch.max(outputs.data, 1)\n",
    "                    total_train_correct += (predicted == labels).sum().item()\n",
    "                    total_train_samples += labels.size(0)\n",
    "\n",
    "            client_models.append(client_model)\n",
    "\n",
    "        # Calculate and store training accuracy for this round\n",
    "        train_accuracy = 100 * total_train_correct / total_train_samples\n",
    "        round_accuracies.append(train_accuracy)\n",
    "        print(f'Training Accuracy: {train_accuracy:.2f}%')\n",
    "\n",
    "        # Aggregate client models\n",
    "        global_state_dict = global_model.state_dict()\n",
    "        for key in global_state_dict:\n",
    "            global_state_dict[key] = torch.stack([model.state_dict()[key].float() for model in client_models], 0).mean(0)\n",
    "        global_model.load_state_dict(global_state_dict)\n",
    "        print('Model aggregated')\n",
    "    \n",
    "    return round_accuracies"
   ]
  },
  {
   "cell_type": "markdown",
   "metadata": {},
   "source": [
    "**Function for evaluating the model**"
   ]
  },
  {
   "cell_type": "code",
   "execution_count": 12,
   "metadata": {},
   "outputs": [],
   "source": [
    "def evaluate_model(model, testloader):\n",
    "    model.to(device)\n",
    "    model.eval()\n",
    "    correct = 0\n",
    "    total = 0\n",
    "    with torch.no_grad():\n",
    "        for data in testloader:\n",
    "            images, labels = data\n",
    "            images, labels = images.to(device), labels.to(device) \n",
    "            outputs = model(images)\n",
    "            _, predicted = torch.max(outputs.data, 1)\n",
    "            total += labels.size(0)\n",
    "            correct += (predicted == labels).sum().item()\n",
    "    print(f'Test Accuracy: {100 * correct / total:.2f}%')"
   ]
  },
  {
   "cell_type": "markdown",
   "metadata": {},
   "source": [
    "**Function for plotting the training accuracy vs. rounds**"
   ]
  },
  {
   "cell_type": "code",
   "execution_count": 13,
   "metadata": {},
   "outputs": [],
   "source": [
    "def plot_training_accuracy_vs_rounds(num_users_list, round_accuracies_list, num_rounds, model_type=\" \"):\n",
    "    for num_users, accuracies in zip(num_users_list, round_accuracies_list):\n",
    "        plt.plot(range(1, num_rounds + 1), accuracies, marker='o', label=f'{num_users} Users')\n",
    "    plt.xlabel('Number of Rounds')\n",
    "    plt.ylabel('Training Accuracy (%)')\n",
    "    plt.title(f'{model_type}: Training Accuracy vs. Number of Rounds')\n",
    "    plt.legend()\n",
    "    plt.grid(True)\n",
    "    plt.show()"
   ]
  },
  {
   "cell_type": "markdown",
   "metadata": {},
   "source": [
    "**Training and Testing**"
   ]
  },
  {
   "cell_type": "code",
   "execution_count": 14,
   "metadata": {},
   "outputs": [
    {
     "name": "stdout",
     "output_type": "stream",
     "text": [
      "\n",
      "Training Federated Model with 1 clients (CNN)...\n",
      "Round 1/10\n",
      "Training Accuracy: 46.89%\n",
      "Model aggregated\n",
      "Round 2/10\n",
      "Training Accuracy: 76.77%\n",
      "Model aggregated\n",
      "Round 3/10\n",
      "Training Accuracy: 88.06%\n",
      "Model aggregated\n",
      "Round 4/10\n",
      "Training Accuracy: 93.07%\n",
      "Model aggregated\n",
      "Round 5/10\n",
      "Training Accuracy: 96.24%\n",
      "Model aggregated\n",
      "Round 6/10\n",
      "Training Accuracy: 97.63%\n",
      "Model aggregated\n",
      "Round 7/10\n",
      "Training Accuracy: 97.98%\n",
      "Model aggregated\n",
      "Round 8/10\n",
      "Training Accuracy: 98.59%\n",
      "Model aggregated\n",
      "Round 9/10\n",
      "Training Accuracy: 98.52%\n",
      "Model aggregated\n",
      "Round 10/10\n",
      "Training Accuracy: 99.38%\n",
      "Model aggregated\n",
      "\n",
      "Training Federated Model with 1 clients (ResNet)...\n",
      "Round 1/10\n",
      "Training Accuracy: 84.39%\n",
      "Model aggregated\n",
      "Round 2/10\n",
      "Training Accuracy: 94.33%\n",
      "Model aggregated\n",
      "Round 3/10\n",
      "Training Accuracy: 96.04%\n",
      "Model aggregated\n",
      "Round 4/10\n",
      "Training Accuracy: 97.25%\n",
      "Model aggregated\n",
      "Round 5/10\n",
      "Training Accuracy: 98.19%\n",
      "Model aggregated\n",
      "Round 6/10\n",
      "Training Accuracy: 98.27%\n",
      "Model aggregated\n",
      "Round 7/10\n",
      "Training Accuracy: 98.72%\n",
      "Model aggregated\n",
      "Round 8/10\n",
      "Training Accuracy: 98.83%\n",
      "Model aggregated\n",
      "Round 9/10\n",
      "Training Accuracy: 98.89%\n",
      "Model aggregated\n",
      "Round 10/10\n",
      "Training Accuracy: 99.06%\n",
      "Model aggregated\n",
      "\n",
      "Test Accuracy for 1 clients (CNN):\n",
      "Test Accuracy: 95.00%\n",
      "\n",
      "Test Accuracy for 1 clients (ResNet):\n",
      "Test Accuracy: 59.60%\n",
      "\n",
      "Training Federated Model with 5 clients (CNN)...\n",
      "Round 1/10\n",
      "Training Accuracy: 54.79%\n",
      "Model aggregated\n",
      "Round 2/10\n",
      "Training Accuracy: 79.46%\n",
      "Model aggregated\n",
      "Round 3/10\n",
      "Training Accuracy: 92.90%\n",
      "Model aggregated\n",
      "Round 4/10\n",
      "Training Accuracy: 96.80%\n",
      "Model aggregated\n",
      "Round 5/10\n",
      "Training Accuracy: 98.26%\n",
      "Model aggregated\n",
      "Round 6/10\n",
      "Training Accuracy: 98.90%\n",
      "Model aggregated\n",
      "Round 7/10\n",
      "Training Accuracy: 99.13%\n",
      "Model aggregated\n",
      "Round 8/10\n",
      "Training Accuracy: 99.37%\n",
      "Model aggregated\n",
      "Round 9/10\n",
      "Training Accuracy: 99.47%\n",
      "Model aggregated\n",
      "Round 10/10\n",
      "Training Accuracy: 99.48%\n",
      "Model aggregated\n",
      "\n",
      "Training Federated Model with 5 clients (ResNet)...\n",
      "Round 1/10\n",
      "Training Accuracy: 84.78%\n",
      "Model aggregated\n",
      "Round 2/10\n",
      "Training Accuracy: 91.27%\n",
      "Model aggregated\n",
      "Round 3/10\n",
      "Training Accuracy: 95.32%\n",
      "Model aggregated\n",
      "Round 4/10\n",
      "Training Accuracy: 96.68%\n",
      "Model aggregated\n",
      "Round 5/10\n",
      "Training Accuracy: 97.76%\n",
      "Model aggregated\n",
      "Round 6/10\n",
      "Training Accuracy: 98.36%\n",
      "Model aggregated\n",
      "Round 7/10\n",
      "Training Accuracy: 98.63%\n",
      "Model aggregated\n",
      "Round 8/10\n",
      "Training Accuracy: 98.65%\n",
      "Model aggregated\n",
      "Round 9/10\n",
      "Training Accuracy: 99.01%\n",
      "Model aggregated\n",
      "Round 10/10\n",
      "Training Accuracy: 99.26%\n",
      "Model aggregated\n",
      "\n",
      "Test Accuracy for 5 clients (CNN):\n",
      "Test Accuracy: 96.80%\n",
      "\n",
      "Test Accuracy for 5 clients (ResNet):\n",
      "Test Accuracy: 95.60%\n",
      "\n",
      "Training Federated Model with 10 clients (CNN)...\n",
      "Round 1/10\n",
      "Training Accuracy: 48.39%\n",
      "Model aggregated\n",
      "Round 2/10\n",
      "Training Accuracy: 72.10%\n",
      "Model aggregated\n",
      "Round 3/10\n",
      "Training Accuracy: 89.05%\n",
      "Model aggregated\n",
      "Round 4/10\n",
      "Training Accuracy: 95.29%\n",
      "Model aggregated\n",
      "Round 5/10\n",
      "Training Accuracy: 97.51%\n",
      "Model aggregated\n",
      "Round 6/10\n",
      "Training Accuracy: 98.52%\n",
      "Model aggregated\n",
      "Round 7/10\n",
      "Training Accuracy: 99.02%\n",
      "Model aggregated\n",
      "Round 8/10\n",
      "Training Accuracy: 99.18%\n",
      "Model aggregated\n",
      "Round 9/10\n",
      "Training Accuracy: 99.43%\n",
      "Model aggregated\n",
      "Round 10/10\n",
      "Training Accuracy: 99.48%\n",
      "Model aggregated\n",
      "\n",
      "Training Federated Model with 10 clients (ResNet)...\n",
      "Round 1/10\n",
      "Training Accuracy: 83.93%\n",
      "Model aggregated\n",
      "Round 2/10\n",
      "Training Accuracy: 90.78%\n",
      "Model aggregated\n",
      "Round 3/10\n",
      "Training Accuracy: 94.92%\n",
      "Model aggregated\n",
      "Round 4/10\n",
      "Training Accuracy: 96.72%\n",
      "Model aggregated\n",
      "Round 5/10\n",
      "Training Accuracy: 97.64%\n",
      "Model aggregated\n",
      "Round 6/10\n",
      "Training Accuracy: 98.22%\n",
      "Model aggregated\n",
      "Round 7/10\n",
      "Training Accuracy: 98.65%\n",
      "Model aggregated\n",
      "Round 8/10\n",
      "Training Accuracy: 98.76%\n",
      "Model aggregated\n",
      "Round 9/10\n",
      "Training Accuracy: 99.03%\n",
      "Model aggregated\n",
      "Round 10/10\n",
      "Training Accuracy: 99.17%\n",
      "Model aggregated\n",
      "\n",
      "Test Accuracy for 10 clients (CNN):\n",
      "Test Accuracy: 97.40%\n",
      "\n",
      "Test Accuracy for 10 clients (ResNet):\n",
      "Test Accuracy: 98.60%\n"
     ]
    }
   ],
   "source": [
    "num_rounds = 10\n",
    "local_epochs = 3\n",
    "num_users_list = [1, 5, 10]\n",
    "\n",
    "round_accuracies_cnn_list = []\n",
    "round_accuracies_resnet_list = []\n",
    "\n",
    "for num_users in num_users_list:\n",
    "\n",
    "    client_dataloaders = [DataLoader(train_dataset, batch_size=64, shuffle=True) for _ in range(num_users)]\n",
    "    \n",
    "    print(f\"\\nTraining Federated Model with {num_users} clients (CNN)...\")\n",
    "    cnn_net = CNNModel(num_classes=len(torch.unique(y_train))).to(device)\n",
    "    round_accuracies_cnn = federated_train(client_dataloaders, cnn_net, num_rounds=num_rounds, local_epochs=local_epochs, model_type=\"cnn\")\n",
    "    round_accuracies_cnn_list.append(round_accuracies_cnn)\n",
    "\n",
    "    print(f\"\\nTraining Federated Model with {num_users} clients (ResNet)...\")\n",
    "    resnet_net = ResNet18(num_classes=len(torch.unique(y_train))).to(device)\n",
    "    round_accuracies_resnet = federated_train(client_dataloaders, resnet_net, num_rounds=num_rounds, local_epochs=local_epochs, model_type=\"resnet\")\n",
    "    round_accuracies_resnet_list.append(round_accuracies_resnet)\n",
    "\n",
    "    # Evaluate both models\n",
    "    print(f'\\nTest Accuracy for {num_users} clients (CNN):')\n",
    "    evaluate_model(cnn_net, test_loader)\n",
    "    \n",
    "    print(f'\\nTest Accuracy for {num_users} clients (ResNet):')\n",
    "    evaluate_model(resnet_net, test_loader)"
   ]
  },
  {
   "cell_type": "markdown",
   "metadata": {},
   "source": [
    "**Visualizations**"
   ]
  },
  {
   "cell_type": "code",
   "execution_count": 15,
   "metadata": {},
   "outputs": [
    {
     "data": {
      "image/png": "[encoded data removed]",
      "text/plain": [
       "<Figure size 640x480 with 1 Axes>"
      ]
     },
     "metadata": {},
     "output_type": "display_data"
    }
   ],
   "source": [
    "plot_training_accuracy_vs_rounds(num_users_list, round_accuracies_cnn_list, num_rounds,\"CNN\")"
   ]
  },
  {
   "cell_type": "code",
   "execution_count": 16,
   "metadata": {},
   "outputs": [
    {
     "data": {
      "image/png": "[encoded data removed]",
      "text/plain": [
       "<Figure size 640x480 with 1 Axes>"
      ]
     },
     "metadata": {},
     "output_type": "display_data"
    }
   ],
   "source": [
    "plot_training_accuracy_vs_rounds(num_users_list, round_accuracies_resnet_list, num_rounds, \"ResNet\")"
   ]
  },
  {
   "cell_type": "markdown",
   "metadata": {},
   "source": [
    "**Results and Analysis:**\n",
    "\n",
    "This experiment evaluates the performance of CNN and ResNet-18 in both centralized learning (1 client) and federated learning (FL) settings (5 and 10 clients) using the UT-HAR dataset. The models were trained over 10 global rounds with 3 local epochs per client, and their accuracy was tracked across different client distributions.\n",
    "\n",
    "\n",
    "**Training Performance:**\n",
    "The 1-client setting represents centralized learning, where the model is trained on the entire dataset without distribution across multiple clients.\n",
    "ResNet-18 showed a faster training accuracy increase compared to CNN in FL, achieving over 93% by round 5, while CNN improved more gradually.\n",
    "CNN and ResNet-18 both reached nearly 99% training accuracy when trained across multiple clients in FL.\n",
    "More clients in FL led to better accuracy for both models due to improved data distribution.\n",
    "\n",
    "\n",
    "**Test Accuracy Comparison:**\n",
    "In centralized learning (1 client), CNN significantly outperformed ResNet-18 on test accuracy (95.00% vs. 59.60%), indicating that ResNet-18 might have overfitted due to limited training data.\n",
    "With 5 clients, both models performed well, with CNN achieving 96.80% and ResNet-18 reaching 95.60%, suggesting that CNN generalized slightly better in this case.\n",
    "With 10 clients, ResNet-18 outperformed CNN (98.60% vs. 97.40%), demonstrating that ResNet-18 benefits more from federated learning with increased data diversity.\n",
    "As the number of clients increased, test accuracy generally improved, confirming the advantage of federated training.\n",
    "\n",
    "\n",
    "**Key Observations:**\n",
    "Centralized learning (1 client) can achieve high accuracy but may lead to overfitting, particularly for deeper models like ResNet-18.\n",
    "Federated learning benefits from more clients, as seen in both CNN and ResNet-18, with test accuracy improving as the number of clients increases.\n",
    "ResNet-18 exhibited higher performance gains in FL when more clients participated, whereas CNN was more stable across different settings.\n",
    "The choice between CNN and ResNet-18 depends on the available training setup, with CNN performing better in centralized settings and ResNet-18 benefiting from FL with more clients."
   ]
  }
 ],
 "metadata": {
  "kernelspec": {
   "display_name": "Python 3",
   "language": "python",
   "name": "python3"
  },
  "language_info": {
   "codemirror_mode": {
    "name": "ipython",
    "version": 3
   },
   "file_extension": ".py",
   "mimetype": "text/x-python",
   "name": "python",
   "nbconvert_exporter": "python",
   "pygments_lexer": "ipython3",
   "version": "3.12.0"
  }
 },
 "nbformat": 4,
 "nbformat_minor": 2
}
